{
 "cells": [
  {
   "cell_type": "code",
   "execution_count": 1,
   "metadata": {},
   "outputs": [],
   "source": [
    "# Gerekli kütüphaneleri içe aktar\n",
    "from newspaper import Article\n",
    "import random\n",
    "import string\n",
    "import numpy as np\n",
    "import warnings\n",
    "import nltk\n",
    "from sklearn.feature_extraction.text import TfidfVectorizer\n",
    "from sklearn.metrics.pairwise import cosine_similarity\n"
   ]
  },
  {
   "cell_type": "code",
   "execution_count": 2,
   "metadata": {},
   "outputs": [
    {
     "data": {
      "text/plain": [
       "True"
      ]
     },
     "execution_count": 2,
     "metadata": {},
     "output_type": "execute_result"
    }
   ],
   "source": [
    "\n",
    "# Uyarıları görmezden gel\n",
    "warnings.filterwarnings('ignore')\n",
    "\n",
    "# NLTK paketlerini indir\n",
    "nltk.download('punkt', quiet=True)\n",
    "nltk.download('wordnet', quiet=True)\n"
   ]
  },
  {
   "cell_type": "code",
   "execution_count": 3,
   "metadata": {},
   "outputs": [],
   "source": [
    "# Makale URL'sini al\n",
    "article = Article('https://tr.wikipedia.org/wiki/Kuantum_bilgisayar%C4%B1')\n",
    "article.download()\n",
    "article.parse()\n",
    "article.nlp()\n",
    "corpus = article.text\n"
   ]
  },
  {
   "cell_type": "code",
   "execution_count": 4,
   "metadata": {},
   "outputs": [
    {
     "name": "stdout",
     "output_type": "stream",
     "text": [
      "D-Wave Systems Inc. tarafından imal edilen ve bir numune tutucuya monte edilmiş ve tel bağlanmış bir yonganın fotoğrafı. D-Wave işlemci, işlemleri gerçekleştirmek için kontrol edilebilir ve ayarlanabilir bağlantıyı gösteren 128 süper iletken mantıksal ögeyi kullanmak üzere tasarlanmıştır.\n",
      "\n",
      "Kuantum bilgisayarı veri üzerinde işlem yapmak için bindirme ve dolaşma gibi kuantum-mekanik fenomenin doğrudan kullanımını sağlayan teorik hesaplama sistemlerini kullanan bilgisayarlardır.[1]\n",
      "\n",
      "Kuantum bilgisayarların özellikleri [ değiştir | kaynağı değiştir ]\n",
      "\n",
      "Klasik bilgisayarlar bitlerden oluşan hafıza yapısına sahiptir. Her bit 1 veya 0 değerini alabilir. Kuantum bilgisayarları ise kübit (qubit)lerden oluşan seriler içerir. Tek bir qubit 1, 0 veya bu ikisi arasındaki (kuantum çakışması) bir değeri alabilir. Bir kübit (qubit) çifti 4 kuantum çakışması durumunun herhangi birinde, üç kübit (qubit) ise 8 kuantum çakışması durumunun herhangi birinde olabilir. Genel olarak n {\\displaystyle n} kübit sahibi bir kuantum bilgisayarı aynı anda 2 n {\\displaystyle 2^{n}} çakışmanın herhangi birinde olabilir. (Normal bilgisayarlar 2 n {\\displaystyle 2^{n}} durumun sadece birinde olurken, bir kuantum bilgisayarı bu durumların hepsinde ya da bir kısmında bulunabilir.) Kuantum bilgisayarları kübitleri (qubit) belirli kuantum mantık kapıları ile düzenleyebilir. Uygulanan bu kapı serilerine kuantum algoritması adı verilir.\n",
      "\n",
      "Kuantum bilgisayarının olası farkı hakkında; alışıla gelmiş klasik transistörlü elektriksel devre akımı ile işlem yapma esnasında çeşitli veri gecikme süreçleri olduğu için, bu bekleme süreci transistör sayısı artıkça ilk elektriksel yapı bir noktadan sonra tekrar yenilenmesi gerekir. Bu yüzden işlem süreci haliyle uzamaktadır. Fiber optik bağlantılardaki gibi, kuantum bilgisayarlarının tüm işlemi ışık hızı sınırında tamamlayabilmesi olasıdır.\n",
      "['D-Wave Systems Inc. tarafından imal edilen ve bir numune tutucuya monte edilmiş ve tel bağlanmış bir yonganın fotoğrafı.', 'D-Wave işlemci, işlemleri gerçekleştirmek için kontrol edilebilir ve ayarlanabilir bağlantıyı gösteren 128 süper iletken mantıksal ögeyi kullanmak üzere tasarlanmıştır.', 'Kuantum bilgisayarı veri üzerinde işlem yapmak için bindirme ve dolaşma gibi kuantum-mekanik fenomenin doğrudan kullanımını sağlayan teorik hesaplama sistemlerini kullanan bilgisayarlardır.', '[1]\\n\\nKuantum bilgisayarların özellikleri [ değiştir | kaynağı değiştir ]\\n\\nKlasik bilgisayarlar bitlerden oluşan hafıza yapısına sahiptir.', 'Her bit 1 veya 0 değerini alabilir.', 'Kuantum bilgisayarları ise kübit (qubit)lerden oluşan seriler içerir.', 'Tek bir qubit 1, 0 veya bu ikisi arasındaki (kuantum çakışması) bir değeri alabilir.', 'Bir kübit (qubit) çifti 4 kuantum çakışması durumunun herhangi birinde, üç kübit (qubit) ise 8 kuantum çakışması durumunun herhangi birinde olabilir.', 'Genel olarak n {\\\\displaystyle n} kübit sahibi bir kuantum bilgisayarı aynı anda 2 n {\\\\displaystyle 2^{n}} çakışmanın herhangi birinde olabilir.', '(Normal bilgisayarlar 2 n {\\\\displaystyle 2^{n}} durumun sadece birinde olurken, bir kuantum bilgisayarı bu durumların hepsinde ya da bir kısmında bulunabilir.)', 'Kuantum bilgisayarları kübitleri (qubit) belirli kuantum mantık kapıları ile düzenleyebilir.', 'Uygulanan bu kapı serilerine kuantum algoritması adı verilir.', 'Kuantum bilgisayarının olası farkı hakkında; alışıla gelmiş klasik transistörlü elektriksel devre akımı ile işlem yapma esnasında çeşitli veri gecikme süreçleri olduğu için, bu bekleme süreci transistör sayısı artıkça ilk elektriksel yapı bir noktadan sonra tekrar yenilenmesi gerekir.', 'Bu yüzden işlem süreci haliyle uzamaktadır.', 'Fiber optik bağlantılardaki gibi, kuantum bilgisayarlarının tüm işlemi ışık hızı sınırında tamamlayabilmesi olasıdır.']\n",
      "!\"#$%&'()*+,-./:;<=>?@[\\]^_`{|}~\n",
      "{33: None, 34: None, 35: None, 36: None, 37: None, 38: None, 39: None, 40: None, 41: None, 42: None, 43: None, 44: None, 45: None, 46: None, 47: None, 58: None, 59: None, 60: None, 61: None, 62: None, 63: None, 64: None, 91: None, 92: None, 93: None, 94: None, 95: None, 96: None, 123: None, 124: None, 125: None, 126: None}\n",
      "['dwave', 'systems', 'inc', 'tarafından', 'imal', 'edilen', 've', 'bir', 'numune', 'tutucuya', 'monte', 'edilmiş', 've', 'tel', 'bağlanmış', 'bir', 'yonganın', 'fotoğrafı', 'dwave', 'işlemci', 'işlemleri', 'gerçekleştirmek', 'için', 'kontrol', 'edilebilir', 've', 'ayarlanabilir', 'bağlantıyı', 'gösteren', '128', 'süper', 'iletken', 'mantıksal', 'ögeyi', 'kullanmak', 'üzere', 'tasarlanmıştır', 'kuantum', 'bilgisayarı', 'veri', 'üzerinde', 'işlem', 'yapmak', 'için', 'bindirme', 've', 'dolaşma', 'gibi', 'kuantummekanik', 'fenomenin', 'doğrudan', 'kullanımını', 'sağlayan', 'teorik', 'hesaplama', 'sistemlerini', 'kullanan', 'bilgisayarlardır1', 'kuantum', 'bilgisayarların', 'özellikleri', 'değiştir', 'kaynağı', 'değiştir', 'klasik', 'bilgisayarlar', 'bitlerden', 'oluşan', 'hafıza', 'yapısına', 'sahiptir', 'her', 'bit', '1', 'veya', '0', 'değerini', 'alabilir', 'kuantum', 'bilgisayarları', 'ise', 'kübit', 'qubitlerden', 'oluşan', 'seriler', 'içerir', 'tek', 'bir', 'qubit', '1', '0', 'veya', 'bu', 'ikisi', 'arasındaki', 'kuantum', 'çakışması', 'bir', 'değeri', 'alabilir', 'bir', 'kübit', 'qubit', 'çifti', '4', 'kuantum', 'çakışması', 'durumunun', 'herhangi', 'birinde', 'üç', 'kübit', 'qubit', 'ise', '8', 'kuantum', 'çakışması', 'durumunun', 'herhangi', 'birinde', 'olabilir', 'genel', 'olarak', 'n', 'displaystyle', 'n', 'kübit', 'sahibi', 'bir', 'kuantum', 'bilgisayarı', 'aynı', 'anda', '2', 'n', 'displaystyle', '2n', 'çakışmanın', 'herhangi', 'birinde', 'olabilir', 'normal', 'bilgisayarlar', '2', 'n', 'displaystyle', '2n', 'durumun', 'sadece', 'birinde', 'olurken', 'bir', 'kuantum', 'bilgisayarı', 'bu', 'durumların', 'hepsinde', 'ya', 'da', 'bir', 'kısmında', 'bulunabilir', 'kuantum', 'bilgisayarları', 'kübitleri', 'qubit', 'belirli', 'kuantum', 'mantık', 'kapıları', 'ile', 'düzenleyebilir', 'uygulanan', 'bu', 'kapı', 'serilerine', 'kuantum', 'algoritması', 'adı', 'verilir', 'kuantum', 'bilgisayarının', 'olası', 'farkı', 'hakkında', 'alışıla', 'gelmiş', 'klasik', 'transistörlü', 'elektriksel', 'devre', 'akımı', 'ile', 'işlem', 'yapma', 'esnasında', 'çeşitli', 'veri', 'gecikme', 'süreçleri', 'olduğu', 'için', 'bu', 'bekleme', 'süreci', 'transistör', 'sayısı', 'artıkça', 'ilk', 'elektriksel', 'yapı', 'bir', 'noktadan', 'sonra', 'tekrar', 'yenilenmesi', 'gerekir', 'bu', 'yüzden', 'işlem', 'süreci', 'haliyle', 'uzamaktadır', 'fiber', 'optik', 'bağlantılardaki', 'gibi', 'kuantum', 'bilgisayarlarının', 'tüm', 'işlemi', 'ışık', 'hızı', 'sınırında', 'tamamlayabilmesi', 'olasıdır']\n"
     ]
    }
   ],
   "source": [
    "\n",
    "\n",
    "# Makale metnini yazdır\n",
    "print(corpus)\n",
    "\n",
    "text = corpus\n",
    "sent_tokens = nltk.sent_tokenize(text)\n",
    "print(sent_tokens)\n",
    "\n",
    "remove_punct_dict = dict((ord(punct), None) for punct in string.punctuation)\n",
    "print(string.punctuation)\n",
    "print(remove_punct_dict)\n",
    "\n",
    "def LemNormalize(text):\n",
    "    return nltk.word_tokenize(text.lower().translate(remove_punct_dict))\n",
    "\n",
    "print(LemNormalize(text))\n",
    "\n",
    "greeting_input = [\"selam\", \"merhaba\", \"hey\", \"hola\", \"namaste\"]\n",
    "greeting_response = [\"merhaba\", \"namaste🙏️\", \"hey there\", \"selam\", \"merhaba :)\"]\n",
    "\n",
    "def greeting(sentence):\n",
    "    for word in sentence.split():\n",
    "        if word.lower() in greeting_input:\n",
    "            return random.choice(greeting_response)\n",
    "\n",
    "def response(user_response):\n",
    "    user_response = user_response.lower()\n",
    "    robo_response = ''\n",
    "    sent_tokens.append(user_response)\n",
    "\n",
    "    tfidfvec = TfidfVectorizer(tokenizer=LemNormalize, stop_words='english')\n",
    "    tfidf = tfidfvec.fit_transform(sent_tokens)\n",
    "\n",
    "    val = cosine_similarity(tfidf[-1], tfidf)\n",
    "    idx = val.argsort()[0][-2]\n",
    "    flat = val.flatten()\n",
    "    flat.sort()\n",
    "    score = flat[-2]\n",
    "\n",
    "    if score == 0:\n",
    "        robo_response = robo_response + \"Özür dilerim, anlamadım.\"\n",
    "    else:\n",
    "        robo_response = robo_response + sent_tokens[idx]\n",
    "\n",
    "    sent_tokens.remove(user_response)\n",
    "    return robo_response"
   ]
  },
  {
   "cell_type": "code",
   "execution_count": 5,
   "metadata": {},
   "outputs": [
    {
     "name": "stdout",
     "output_type": "stream",
     "text": [
      "Merhaba! Ben Robo. Kuantum hesaplamaları ile ilgili sorularınızı cevaplayabilirim. Çıkmak için 'bye' yazın.\n",
      "Robo: Özür dilerim, anlamadım.\n",
      "Robo: Kuantum bilgisayarları ise kübit (qubit)lerden oluşan seriler içerir.\n",
      "Robo: [1]\n",
      "\n",
      "Kuantum bilgisayarların özellikleri [ değiştir | kaynağı değiştir ]\n",
      "\n",
      "Klasik bilgisayarlar bitlerden oluşan hafıza yapısına sahiptir.\n"
     ]
    }
   ],
   "source": [
    "\n",
    "\n",
    "flag = True\n",
    "print(\"Merhaba! Ben Robo. Kuantum hesaplamaları ile ilgili sorularınızı cevaplayabilirim. Çıkmak için 'bye' yazın.\")\n",
    "\n",
    "while flag:\n",
    "    user_response = input(\"Kullanıcı: \")\n",
    "\n",
    "    if user_response != 'bye':\n",
    "        if user_response == 'teşekkürler' or user_response == 'teşekkür ederim':\n",
    "            flag = False\n",
    "            print(\"Robo: Rica ederim! Daha fazla sorunuz varsa sormaktan çekinmeyin. Hoşça kal!\")\n",
    "        else:\n",
    "            if greeting(user_response) is not None:\n",
    "                print(\"Robo: \" + greeting(user_response))\n",
    "            else:\n",
    "                print(\"Robo: \" + response(user_response))\n",
    "    else:\n",
    "        flag = False\n",
    "        print(\"Robo: Görüşmek üzere! Daha fazla sorunuz varsa sormaktan çekinmeyin. Hoşça kal!\")\n"
   ]
  }
 ],
 "metadata": {
  "kernelspec": {
   "display_name": "Python 3",
   "language": "python",
   "name": "python3"
  },
  "language_info": {
   "codemirror_mode": {
    "name": "ipython",
    "version": 3
   },
   "file_extension": ".py",
   "mimetype": "text/x-python",
   "name": "python",
   "nbconvert_exporter": "python",
   "pygments_lexer": "ipython3",
   "version": "3.12.0"
  }
 },
 "nbformat": 4,
 "nbformat_minor": 2
}
